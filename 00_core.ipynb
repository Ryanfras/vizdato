{
 "cells": [
  {
   "cell_type": "code",
   "execution_count": null,
   "metadata": {},
   "outputs": [],
   "source": [
    "#hide\n",
    "%load_ext autoreload\n",
    "%autoreload 2"
   ]
  },
  {
   "cell_type": "code",
   "execution_count": null,
   "metadata": {},
   "outputs": [],
   "source": [
    "# default_exp core"
   ]
  },
  {
   "cell_type": "markdown",
   "metadata": {},
   "source": [
    "# module name here\n",
    "\n",
    "> API details."
   ]
  },
  {
   "cell_type": "code",
   "execution_count": null,
   "metadata": {},
   "outputs": [],
   "source": [
    "#hide\n",
    "from nbdev.showdoc import *"
   ]
  },
  {
   "cell_type": "code",
   "execution_count": null,
   "metadata": {},
   "outputs": [],
   "source": [
    "#export\n",
    "def print_something():\n",
    "    print('This is for fun')"
   ]
  },
  {
   "cell_type": "code",
   "execution_count": null,
   "metadata": {},
   "outputs": [],
   "source": [
    "#exports\n",
    "def make_changes_in_colab():\n",
    "  print('This was done in colab')"
   ]
  },
  {
   "cell_type": "code",
   "execution_count": null,
   "metadata": {},
   "outputs": [
    {
     "name": "stdout",
     "output_type": "stream",
     "text": [
      "This was done in colab\n"
     ]
    }
   ],
   "source": [
    "make_changes_in_colab()"
   ]
  },
  {
   "cell_type": "code",
   "execution_count": null,
   "metadata": {},
   "outputs": [],
   "source": [
    "#exports\n",
    "def explore_df(df):\n",
    "    \n",
    "    \"\"\"\n",
    "    A more advanced version of describe for tabular exploratory data analysis. Inlcudes additional information such as,\n",
    "    missing observations, unique observations, constant feature flagging, all_missing feature flagging, feature types & outlier\n",
    "    values.\n",
    "\n",
    "    Parameters\n",
    "    ----------\n",
    "    df : pandas df, required\n",
    "        Pandas dataframe object \n",
    "\n",
    "    Returns\n",
    "    -------\n",
    "    pandas df\n",
    "        Returns a pandas dataframe object\n",
    "    \n",
    "    Usage\n",
    "    -----\n",
    "        df = pd.DataFrame({\"x1\": [\"a\", \"b\", \"c\", \"a\"], \"x2\":['x','y','x','x'], \"y\": [1,1,0,1]})\n",
    "        eda = explore_df(df=df)\n",
    "    \"\"\"\n",
    "    \n",
    "    import pandas as pd\n",
    "    import numpy as np\n",
    "    \n",
    "    ft = pd.DataFrame()\n",
    "    ft['type']=df.dtypes.astype(str)\n",
    "    ft['feature']=ft.index\n",
    "    ft['unique']=df.nunique()\n",
    "    ft['missing']= df.isnull().sum()\n",
    "    ft['constant']=np.where(ft['unique']==1,1,0)\n",
    "    ft['all_missing']=np.where(ft['missing']==df.shape[0],1,0)\n",
    "\n",
    "    numeric = ft.loc[(ft['type'].str.contains('float'))]['feature']\n",
    "    numeric = numeric.append(ft.loc[(ft['type'].str.contains('int'))]['feature'])\n",
    "    \n",
    "    categorical = ft.loc[(ft['type'].str.contains('object'))]['feature']\n",
    "\n",
    "    # Summary statistics\n",
    "    lower=df[numeric].quantile(q=0.25)\n",
    "    upper=df[numeric].quantile(q=0.75)\n",
    "    ft['min']=df[numeric].min()\n",
    "    ft['q1']=lower\n",
    "    ft['median']=df[numeric].median()\n",
    "    ft['mean']=df[numeric].mean()\n",
    "    ft['q3']=upper\n",
    "    ft['max']=df[numeric].max()\n",
    "\n",
    "    # Caclulate outlier values\n",
    "    iqr = upper - lower\n",
    "    lower=lower-(1.5*iqr)\n",
    "    upper=upper+(1.5*iqr)\n",
    "    ft['lower_outlier']=lower\n",
    "    ft['upper_outlier']=upper\n",
    "    ft['skewness']=df[numeric].skew()\n",
    "    \n",
    "    ft['class'] = np.where(ft['type'].str.contains('float'), 'numeric', None)\n",
    "    ft['class'] = np.where(ft['type'].str.contains('int'), 'numeric', ft['class'])\n",
    "    ft['class'] = np.where(ft['type'].str.contains('object'), 'categorical', ft['class'])\n",
    "    ft['class'] = np.where(ft['type'].str.contains('datetime'), 'datetime', ft['class'])\n",
    "    ft['class'] = np.where(ft['class'].isin(['numeric','integer']) & \n",
    "                           (ft['min'] == 0) & \n",
    "                           (ft['max'] == 1) & \n",
    "                           (ft['unique'] == 2), 'indicator', ft['class'])\n",
    "        \n",
    "    ft=ft[['feature','type','class','missing','unique','constant','all_missing','min','q1','median',\n",
    "         'mean','q3','max','lower_outlier','upper_outlier','skewness']]\n",
    "\n",
    "    ft=ft.reset_index(drop=True)\n",
    "    return ft"
   ]
  },
  {
   "cell_type": "code",
   "execution_count": null,
   "metadata": {},
   "outputs": [],
   "source": [
    "def wys_vir_johan(wat_wys_ek):\n",
    "  print(\"ek wys \", wat_wys_ek)"
   ]
  },
  {
   "cell_type": "code",
   "execution_count": null,
   "metadata": {},
   "outputs": [
    {
     "name": "stdout",
     "output_type": "stream",
     "text": [
      "ek wys  colab\n"
     ]
    }
   ],
   "source": [
    "wys_vir_johan('colab')"
   ]
  },
  {
   "cell_type": "code",
   "execution_count": null,
   "metadata": {},
   "outputs": [
    {
     "name": "stdout",
     "output_type": "stream",
     "text": [
      "Converted 00_core.ipynb.\n",
      "Converted index.ipynb.\n"
     ]
    }
   ],
   "source": [
    "#hide\n",
    "from nbdev.export import *\n",
    "notebook2script()"
   ]
  },
  {
   "cell_type": "code",
   "execution_count": null,
   "metadata": {},
   "outputs": [],
   "source": []
  }
 ],
 "metadata": {
  "kernelspec": {
   "display_name": "Python 3",
   "language": "python",
   "name": "python3"
  }
 },
 "nbformat": 4,
 "nbformat_minor": 1
}
